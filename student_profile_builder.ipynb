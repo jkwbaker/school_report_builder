{
 "cells": [
  {
   "cell_type": "code",
   "execution_count": 2,
   "metadata": {
    "collapsed": true
   },
   "outputs": [],
   "source": [
    "#file path\n",
    "test_file_1 = \"C:/Users/bakerjul/Desktop/vcsi_9_4.xlsx\""
   ]
  },
  {
   "cell_type": "code",
   "execution_count": 3,
   "metadata": {
    "collapsed": true
   },
   "outputs": [],
   "source": [
    "import pandas as pd\n",
    "import numpy as np"
   ]
  },
  {
   "cell_type": "code",
   "execution_count": 4,
   "metadata": {
    "collapsed": true
   },
   "outputs": [],
   "source": [
    "#read results\n",
    "df = pd.read_excel(test_file_1, index_col=None, names=['timestamp', 'first_name', 'last_name', 'zone', 'hobby', 'career_leader', \\\n",
    "                                                       'relate_god', 'relate_others', 'relate_envir', \\\n",
    "                                                       'relate_self', 'effort', 'like', 'talent', 'study_less', 'videos', \\\n",
    "                                                       'song_lyrics', 'movie_quotes', 'fidget', 'talk_long', 'puzzles', \\\n",
    "                                                       'music_note', 'routine', 'read_long', 'page_location', \\\n",
    "                                                       'instructions', 'others_feel', 'share_emotions', 'support', \\\n",
    "                                                       'adult_cares', 'intrapersonal', 'long_term_goal', 'long_term_goal_desc', \\\n",
    "                                                       'length_goal', 'class_hard_work', 'private_hard_work', 'class_success', 'private_success', \\\n",
    "                                                       'group_favorite', 'group_least_favorite', 'nervous', 'success_tips'] ) "
   ]
  },
  {
   "cell_type": "code",
   "execution_count": 6,
   "metadata": {
    "collapsed": true
   },
   "outputs": [],
   "source": [
    "#change responses to numeric\n",
    "def very_important_numeric( var ):\n",
    "    if var == 'Very important':\n",
    "        return 4\n",
    "    elif var == 'Important':\n",
    "        return 3\n",
    "    elif var == 'Average':\n",
    "        return 2\n",
    "    elif var == 'Less important':\n",
    "        return 1\n",
    "    elif var == 'Not important at all':\n",
    "        return 0\n",
    "    \n",
    "def possible_numeric( var ):\n",
    "    if var == 'Easily possible':\n",
    "        return 4\n",
    "    elif var == 'Possible':\n",
    "        return 3\n",
    "    elif var == 'Maybe possible, maybe not possible':\n",
    "        return 2\n",
    "    elif var == 'Almost impossible':\n",
    "        return 1\n",
    "    elif var == 'Impossible':\n",
    "        return 0\n",
    "    \n",
    "def easily_think_numeric ( var ):\n",
    "    if var == 'I can easily think of one or more':\n",
    "        return 4\n",
    "    if var == 'I think I have at least one, but have trouble thinking of a specific one':\n",
    "        return 2.67\n",
    "    if var == \"I don't think I do\":\n",
    "        return 1.33\n",
    "    if var == 'I definitely do not':\n",
    "        return 0\n",
    "\n",
    "def proud_numeric ( var ):\n",
    "    if var == 'Very proud':\n",
    "        return 4\n",
    "    elif var == 'Proud':\n",
    "        return 2.67\n",
    "    elif var == 'A little proud':\n",
    "        return 1.33\n",
    "    elif var == 'Not proud at all':\n",
    "        return 0\n",
    "\n",
    "    #change to \"Seven to 12 months'\n",
    "def goal_length_numeric ( var ):\n",
    "    if var == 'More than one year':\n",
    "        return 4\n",
    "    elif var == 'Six to 12 months':\n",
    "        return 2.67\n",
    "    elif var == 'One to six months':\n",
    "        return 1.33\n",
    "    elif var == 'Less than one month':\n",
    "        return 0\n",
    "    \n",
    "def three_option_preference ( var ):\n",
    "    if var == 'All or almost all of the time':\n",
    "        return 4\n",
    "    elif var == 'Sometimes':\n",
    "        return 2\n",
    "    elif var == 'Never or almost never':\n",
    "        return 0\n",
    "\n",
    "def yes_no ( var ):\n",
    "    if var == 'Yes':\n",
    "        return 4\n",
    "    elif var == 'No':\n",
    "        return 0\n",
    "    elif var == \"I'm not sure\":\n",
    "        return 0\n",
    "    \n",
    "def support ( var ):\n",
    "    if var == 'Very supported':\n",
    "        return 4\n",
    "    elif var == 'A little supported':\n",
    "        return 2\n",
    "    elif var == 'Not supported':\n",
    "        return 0\n",
    "    elif var == \"I'm not sure\":\n",
    "        return 2\n",
    "    \n",
    "def true ( var ):\n",
    "    if var == 'Not true at all':\n",
    "        return 0\n",
    "    elif var == 'Probably not true':\n",
    "        return 1.33\n",
    "    elif var == 'Probably true':\n",
    "        return 2.67\n",
    "    elif var == 'Definitely true':\n",
    "        return 4\n",
    "    elif var == \"I'm not sure\":\n",
    "        return 2\n",
    "    \n",
    "def like_me( var ):\n",
    "    if var == 'Not at all like me':\n",
    "        return 0\n",
    "    if var == 'A little like me':\n",
    "        return 2\n",
    "    if var == 'A lot like me':\n",
    "        return 4"
   ]
  },
  {
   "cell_type": "code",
   "execution_count": 7,
   "metadata": {
    "collapsed": true
   },
   "outputs": [],
   "source": [
    "#very_important_numeric\n",
    "column_list1 = ['relate_god', 'relate_others', 'relate_envir', 'relate_self']\n",
    "\n",
    "for col in column_list1:\n",
    "    df[col] = df[col].apply(very_important_numeric)\n",
    "    \n",
    "#possible_numeric\n",
    "column_list4 = ['effort', 'like', 'talent']\n",
    "\n",
    "for col in column_list4:\n",
    "    df[col] = df[col].apply(possible_numeric)\n",
    "    \n",
    "#easily think\n",
    "column_list2 = ['hobby', 'adult_cares']\n",
    "\n",
    "for col in column_list2:\n",
    "    df[col] = df[col].apply(easily_think_numeric)\n",
    "    \n",
    "#proud\n",
    "column_list3 = ['private_success','class_success', 'private_hard_work', 'class_hard_work']\n",
    "\n",
    "for col in column_list3:\n",
    "    df[col] = df[col].apply(proud_numeric)\n",
    "    \n",
    "#learning preferences - all/sometimes/never\n",
    "column_list5 = ['song_lyrics', 'movie_quotes', 'fidget', 'talk_long', 'puzzles', \\\n",
    "                'read_long', 'page_location', 'instructions']\n",
    "\n",
    "for col in column_list5:\n",
    "    df[col]= df[col].apply(three_option_preference)\n",
    "\n",
    "#yes/ no / not sure\n",
    "df['long_term_goal'] = df.long_term_goal.apply(yes_no)\n",
    "\n",
    "#goal length\n",
    "df['length_goal'] = df.length_goal.apply(goal_length_numeric)\n",
    "\n",
    "# #support\n",
    "df['support'] = df.support.apply(support)\n",
    "\n",
    "#not true/ definitely true/ not sure\n",
    "df['study_less'] = df.study_less.apply(true)\n",
    "\n",
    "#like me\n",
    "df['intrapersonal'] = df.intrapersonal.apply(like_me)"
   ]
  },
  {
   "cell_type": "code",
   "execution_count": 9,
   "metadata": {
    "scrolled": true
   },
   "outputs": [
    {
     "name": "stdout",
     "output_type": "stream",
     "text": [
      "Row number:10\n"
     ]
    }
   ],
   "source": [
    "#identify response\n",
    "row = int(input(\"Row number:\"))"
   ]
  },
  {
   "cell_type": "code",
   "execution_count": 11,
   "metadata": {
    "collapsed": true
   },
   "outputs": [],
   "source": [
    "#script based on results\n",
    "def grit_output ( var ): \n",
    "    if var > 3: \n",
    "        return '''Being strong in grit suggests that you already may have found some things you are passionate about.  You can see the value in working toward some long-term goals. \\\n",
    "To make the most of this strength, identify what you care about and are willing to put effort into. \n",
    "If you’re not sure about this right away, think about it over the next few weeks. \\\n",
    "When do you get excited about improving something? \n",
    "(It’s okay if it’s a lofty goal - like stopping homelessness - or if it’s a goal to make yourself better at something, like making the varsity team next school year.) \\\n",
    "If you’re excited about something, the perseverance and dedication will come naturally. \\\n",
    "Take classes that help you learn about these things. Select topics for projects that will help you further your goal. \n",
    "Share your passions with your friends and teachers so that they can help you.'''\n",
    "    elif var >2: \n",
    "        return '''\n",
    "    To make the most of this strength, identify what you care about and are willing and excited to put effort into. If you’re not sure about this right away, think about it over the next few weeks. When do you get excited about improving something? \n",
    "    (It’s okay if it’s a lofty goal - like stopping homelessness - or if it’s a goal to make yourself better at something, like making the varsity team next school year.) \n",
    "    If you’re excited about something, the perseverance and dedication will come naturally.\n",
    "Take classes that help you learn about these things. Select topics for projects that will help you further your goal. \n",
    "Share your passions with your friends and teachers so that they can help you.\n",
    "    '''\n",
    "    elif var <=2: \n",
    "        return '''\n",
    "Grit is not measured by your blood or your IQ. You can work on your grit by finding projects, goals, or activities that you care about. \n",
    "If you’re not sure about this right away, think about it over the next few weeks. \n",
    "When do you get excited about improving something? \n",
    "(It’s okay if it’s a lofty goal - like stopping homelessness - or if it’s a goal to make yourself better at something, like making the varsity team next school year. If you’re excited about something, the perseverance and dedication will come naturally.)\n",
    "    '''\n",
    "\n",
    "def mindset_output ( var ):\n",
    "    if var > 2: \n",
    "        return '''\n",
    "        Being strong in a growth mindset means that you believe you have the power to change and improve things about yourself and your experiences.\n",
    "To make the most of this strength, use it and share it with others. \n",
    "Do you want to understand something better? Spend more time learning about it. Do you want to like a subject more? Make a list about all the good things about it, and force yourself to smile when you review it. \n",
    "Encourage your friends to do the same thing that you are doing. Show them how their grades, attitudes, and relationships can change by putting in effort.\n",
    "        '''\n",
    "    elif var <= 2:\n",
    "        return '''\n",
    "A growth mindset will help you overcome challenging situations. \n",
    "Train yourself to see the effects of your hard work and effort. Notice the times that you put more energy or effort into something - a relationship, a test, a cooking technique - and identify the improvements that you see. \n",
    "This happens more often than you might think. \n",
    "By taking steps to change or improve something, and paying attention to the outcome, you will become a believer in the power you have. \n",
    "This growth mindset will help you overcome obstacles.'''\n",
    "    \n",
    "def intrapersonal_output ( var ):\n",
    "    if var > 2: \n",
    "        return '''\n",
    "        A strength in intrapersonal skills shows that you understand yourself and are able to take steps to help yourself be successful. \n",
    "        To make the most of this skill, continue to speak up for yourself so that you can be successful.\n",
    "        Study and learn through independent study.\n",
    "        Reflect on what you learn, through journals or creative materials.\n",
    "        Allow yourself time to absorb and retain new material.'''\n",
    "    elif var <= 2: \n",
    "        return '''\n",
    "        Intrapersonal skills include how you feel about yourself. \n",
    "        To help improve your intrapersonal skills:\n",
    "        Identify important emotions or frustrations when they arise. \n",
    "        If you are able to calmly change the situation to reduce your load, do so.\n",
    "        Ask for help from others for motivation and class work.\n",
    "        You may want to look up ideas for journals or other avenues that help you identify your feelings so that you understand them and can share them with your close friends and family.'''\n",
    "\n",
    "def interpersonal_output ( var ):\n",
    "    if var > 2: \n",
    "        return '''\n",
    "        A strength in interpersonal skills shows that you understand other people well and are able to express yourself well. Interpersonal skills help you in school, work, and at home. \n",
    "        To make the most of this skill, use it to keep strong relationships and to help build others’ relationships. \n",
    "        When you notice that others are uncomfortable in a situation, help them voice their discomfort or to quietly change the situation so that they can be comfortable.'''\n",
    "    elif var <= 2: \n",
    "        return '''\n",
    "        Interpersonal skills include how you and other people interact. \n",
    "        To help improve your interpersonal skills:\n",
    "        Maintain strong friendships and relationships with people that you like. \n",
    "        Practice looking for emotions, in yourself and in others, and sharing them at appropriate times.'''\n"
   ]
  },
  {
   "cell_type": "code",
   "execution_count": 12,
   "metadata": {
    "collapsed": true
   },
   "outputs": [],
   "source": [
    "name = df.first_name.iloc[row] + ' ' + df.last_name.iloc[row]"
   ]
  },
  {
   "cell_type": "code",
   "execution_count": 14,
   "metadata": {
    "collapsed": true
   },
   "outputs": [],
   "source": [
    "#calculate means\n",
    "grit_score = (df.hobby.iloc[row] + df.long_term_goal.iloc[row] + df.adult_cares.iloc[row])/3\n",
    "public_praise = (df.career_leader.iloc[row] + df.class_success.iloc[row] + df.class_hard_work.iloc[row])/3\n",
    "private_praise = (df.private_success.iloc[row] + df.private_hard_work.iloc[row] + df.long_term_goal.iloc[row])/3\n",
    "mindset = (df.effort.iloc[row] + df.like.iloc[row] + df.study_less.iloc[row] + df.talent.iloc[row])/4\n",
    "visual = (abs(df.videos.iloc[row] - 4) + df.page_location.iloc[row] + df.movie_quotes.iloc[row])/3\n",
    "aural = (df.videos.iloc[row] + df.song_lyrics.iloc[row] + abs(df.talk_long.iloc[row] - 4))/3\n",
    "kinesthetic = (df.fidget.iloc[row] + abs(df.instructions.iloc[row] - 4))/2\n",
    "logical = (df.puzzles.iloc[row]*2 + df.routine.iloc[row]) /3\n",
    "verbal = (abs(df.videos.iloc[row] - 4) + abs(df.read_long.iloc[row] - 4) + df.movie_quotes.iloc[row])/3\n",
    "musical = (df.music_note.iloc[row] + df.song_lyrics.iloc[row]) /2\n",
    "interpersonal = (df.others_feel.iloc[row] + df.share_emotions.iloc[row] + df.support.iloc[row] + df.relate_others.iloc[row]) /4\n",
    "intrapersonal = (df.relate_self.iloc[row] + df.intrapersonal.iloc[row]) /2\n",
    "naturalistic = df.relate_envir.iloc[row]\n",
    "spiritual = df.relate_god.iloc[row]\n",
    "zone_example = df.zone.iloc[row]\n",
    "two_success_tips = df.success_tips.iloc[row]"
   ]
  },
  {
   "cell_type": "code",
   "execution_count": 15,
   "metadata": {
    "collapsed": true
   },
   "outputs": [],
   "source": [
    "#all scores df\n",
    "scores = pd.DataFrame( [['Grit/ Perseverance', grit_score], ['Growth mindset', mindset], ['Public praise', public_praise], ['Private praise', private_praise], \n",
    "              ['Visual learner', visual], ['Aural learner', aural], ['Kinesthetic learner', kinesthetic], \n",
    "              ['Interpersonal relationships', interpersonal], ['Intrapersonal relationship', intrapersonal], ['Naturalistic', naturalistic], ['Spiritual relationship', spiritual], ['Musical', musical], ['Logical', logical]])"
   ]
  },
  {
   "cell_type": "code",
   "execution_count": 16,
   "metadata": {
    "collapsed": true
   },
   "outputs": [],
   "source": [
    "#round scores\n",
    "scores = scores.round(1)"
   ]
  },
  {
   "cell_type": "code",
   "execution_count": 17,
   "metadata": {
    "collapsed": true
   },
   "outputs": [],
   "source": [
    "#name columns\n",
    "scores.columns = ['Strength', 'Score']"
   ]
  },
  {
   "cell_type": "code",
   "execution_count": 19,
   "metadata": {
    "collapsed": true
   },
   "outputs": [],
   "source": [
    "#all scores, sorted\n",
    "profile_all = scores.sort_values(by=['Score'], ascending=False)\n",
    "profile_all = profile_all.round(1)"
   ]
  },
  {
   "cell_type": "code",
   "execution_count": 20,
   "metadata": {
    "collapsed": true
   },
   "outputs": [],
   "source": [
    "#top 5 scores only\n",
    "top_5_df = profile_all[:5]"
   ]
  },
  {
   "cell_type": "code",
   "execution_count": 23,
   "metadata": {
    "collapsed": true
   },
   "outputs": [],
   "source": [
    "#mental \n",
    "mindset_output = '''\n",
    "Grit: {}\n",
    "Grit is a trait that combines your perseverance and your passions for a long-term end goal or state. It has been shown to affect success in school, life, career, and more. \n",
    "{}\n",
    "The last time you were 'in the zone' might be a good indication of where some of your passions and perseverance intersect: \n",
    "{}\n",
    "\n",
    "Growth mindset: {}\n",
    "{}\n",
    "'''.format( grit_score, grit_output(grit_score), zone_example, mindset, mindset_output(mindset))"
   ]
  },
  {
   "cell_type": "code",
   "execution_count": 24,
   "metadata": {
    "collapsed": true
   },
   "outputs": [],
   "source": [
    "#public praise\n",
    "praise_output = '''\n",
    "Public praise: {} \n",
    "A preference toward public praise indicates that you like receiving recognition in group or public settings. You might be able to recognize that you feel more motivated or more accomplished when someone else acknowledges your work.  \n",
    "Make the most of this strength by identifying motivating factors in your daily life. \n",
    "If you are feeling unmotivated, remember the list of people, colleges, companies, or other things, that would like to see you succeed. \n",
    "Thank others when they praise or acknowledge your work, so that they know you appreciated it. \n",
    "Remember that some people may prefer their work be praised in quieter, private settings.\n",
    "\n",
    "Private praise: {}\n",
    "A preference toward private praise indicates that you like receiving recognition in personal settings. You might be able to motivate yourself and be proud of yourself for doing something well. It is important to remember that this is a preference. \n",
    "Motivations for rewards, and receiving rewards, are not “bad.” They can be different. \n",
    "Identify which motivations and rewards make you feel more competent and inspire you to do better. Those are the types that you can ask others for.\n",
    "To make the most of this strength, help others know when and how to praise you and your work. \n",
    "If you are embarrassed by how it is done, pull them aside and politely tell them what you would prefer. \n",
    "For example: “Thank you for telling me that I did a good job. Next time, can you please tell me after class instead of in front of the group?” Remember that some people prefer to be recognized in front of others. \n",
    "'''.format( public_praise.round(1), private_praise.round(1) )"
   ]
  },
  {
   "cell_type": "code",
   "execution_count": 25,
   "metadata": {
    "collapsed": true
   },
   "outputs": [],
   "source": [
    "#visual learner\n",
    "learner_types_output = '''\n",
    "Visual learner: {}\n",
    "A visual learner learns and remembers best by seeing. Strong visual learners may prefer to study and do work in a quiet setting, away from noises and other distractions. \n",
    "To make the most of this strength:\n",
    "Take notes when you are learning. \n",
    "Writing and re-reading your notes will help you remember what you learned. \n",
    "Highlight texts. \n",
    "Draw diagrams.\n",
    "Make flashcards.\n",
    "Transcribe or re-word speeches or lectures. \n",
    "Identify a quiet study location or time to study when you can be focused on the materials and not other noises or people.\n",
    "\n",
    "Aural learner: {} \n",
    "An aural learner learns and remembers best by hearing. You may study best and perform better when background noise is prevalent.\n",
    "To make the most of this strength:\n",
    "Learn and study with speaking and listening. \n",
    "Read texts aloud.\n",
    "Record talks and listen to them later to study.\n",
    "Quiz yourself (or have a friend quiz you) by asking you study questions out loud. \n",
    "Identify a study location that has enough noise to help you focus, but not so much that you get distracted. \n",
    "Download a white noise app to your phone or find a playlist that can play in the background while you work.\n",
    "\n",
    "Kinesthetic learner: {}\n",
    "A kinesthetic learner learns and remembers best by doing and moving. You may study best and perform better when you are able to move around, build or create something, or do a hands-on activity. \n",
    "To make the most of this strength:\n",
    "Incorporate movement into your learning. \n",
    "Add simple movement like walking while talking to a classmate. \n",
    "Create hand movements to help you remember words or concepts. \n",
    "Draw pictures or diagrams.\n",
    "Act out stories.\n",
    "Handwrite your notes. \n",
    "Identify study locations that allow you to move.\n",
    "Find a “wiggle seat” or toy that you can move with your hands while listening to or watching material.\n",
    "\n",
    "'''.format( visual.round(1), aural.round(1), kinesthetic.round(1))"
   ]
  },
  {
   "cell_type": "code",
   "execution_count": 26,
   "metadata": {
    "collapsed": true
   },
   "outputs": [],
   "source": [
    "#relationships\n",
    "relationship_output = '''\n",
    "Interpersonal skills: {}\n",
    "{}\n",
    "\n",
    "Intrapersonal skills: {}\n",
    "{}\n",
    "\n",
    "Naturalistic: {}\n",
    "A naturalistic strength indicates that you respect and serve the natural world around you. You may have an interest in decreasing your waste and avoiding certain materials or processes. \n",
    "To make the most of this strength:\n",
    "Share your passion and learning with others. \n",
    "Set examples for how you want the world to be treated.\n",
    "\n",
    "Spiritual: {}\n",
    "A spiritual strength indicates that you respect and serve God. You may have a close relationship with God, or you may feel ‘far away’ and really desire a closer relationship.\n",
    "To make the most of this strength:\n",
    "Spend time focused on God and your relationship with God daily. \n",
    "Continue to see God in the world around you, through other people, nature, and more. \n",
    "Encourage others to grow in their relationships with God by sharing what you know and feel.\n",
    "\n",
    "Musical: {}\n",
    "A musical strength indicates that you enjoy sounds, rhythms, and other musical elements, whether creating the music or listening to it.\n",
    "To make the most of this strength:\n",
    "Use background music while working or studying.\n",
    "Sing songs - your own or already created - about concepts in class.\n",
    "\n",
    "Logical: {}\n",
    "A logical strength indicates that you can see patterns and relationships between concepts and ideas. \n",
    "To make the most of this strength:\n",
    "Identify concepts and \"the big picture\" before focusing on details.\n",
    "Ask questions.\n",
    "Try completing the same project in multiple ways, experimenting with different processes or ideas.\n",
    "Connect new material with material you have already learned. Identify similarities and differences.\n",
    "\n",
    "'''.format( interpersonal, interpersonal_output(interpersonal), intrapersonal, intrapersonal_output(intrapersonal), \n",
    "          naturalistic, spiritual, musical, logical.round(1))"
   ]
  },
  {
   "cell_type": "code",
   "execution_count": 27,
   "metadata": {
    "collapsed": true
   },
   "outputs": [],
   "source": [
    "#overall output info\n",
    "intro = '''\n",
    "{}\n",
    "Your learner profile is unique to you. Instead of four categories that you might fall into, there are almost infinite possibilities of your learner profile. We believe this reflects real life. \n",
    "\n",
    "Learning is no longer about amassing content. It is about understanding the material and coming up with innovative solutions.\n",
    "\n",
    "You can also see how your strengths compare to other learners.\n",
    "\n",
    "Each strength is assigned a numerical score from 0 to 4. A score of 4 indicates that this is a very strong strength for you and is already well developed. A score of 0 indicates that this area is not a natural preference or skill for you, and may need to be developed or worked around. Knowing your strengths and preferences will help you share with your peers and teachers so that you can be successful.\n",
    "\n",
    "You listed two tips for success for yourself. As a reminder, they are: \n",
    "{}\n",
    "\n",
    "'''.format(name, two_success_tips)\n",
    "\n",
    "top_strengths_output = '''\n",
    "Your top strengths:\n",
    "{}\n",
    "'''.format (top_5_df )\n",
    "\n",
    "all_strengths_output = '''\n",
    "All strengths, starting with the highest:\n",
    "{}\n",
    "'''.format( profile_all )"
   ]
  },
  {
   "cell_type": "code",
   "execution_count": 1,
   "metadata": {
    "collapsed": true
   },
   "outputs": [
    {
     "ename": "NameError",
     "evalue": "name 'intro' is not defined",
     "output_type": "error",
     "traceback": [
      "\u001b[1;31m---------------------------------------------------------------------------\u001b[0m",
      "\u001b[1;31mNameError\u001b[0m                                 Traceback (most recent call last)",
      "\u001b[1;32m<ipython-input-1-b883dc5c85fa>\u001b[0m in \u001b[0;36m<module>\u001b[1;34m()\u001b[0m\n\u001b[0;32m      1\u001b[0m \u001b[1;31m#print profile to copy and paste\u001b[0m\u001b[1;33m\u001b[0m\u001b[1;33m\u001b[0m\u001b[0m\n\u001b[1;32m----> 2\u001b[1;33m \u001b[0mprint\u001b[0m\u001b[1;33m(\u001b[0m \u001b[0mintro\u001b[0m\u001b[1;33m,\u001b[0m \u001b[0mtop_strengths_output\u001b[0m\u001b[1;33m,\u001b[0m \u001b[0mall_strengths_output\u001b[0m\u001b[1;33m,\u001b[0m \u001b[0mlearner_types_output\u001b[0m\u001b[1;33m,\u001b[0m \u001b[0mpraise_output\u001b[0m\u001b[1;33m,\u001b[0m \u001b[0mrelationship_output\u001b[0m\u001b[1;33m)\u001b[0m\u001b[1;33m\u001b[0m\u001b[0m\n\u001b[0m",
      "\u001b[1;31mNameError\u001b[0m: name 'intro' is not defined"
     ]
    }
   ],
   "source": [
    "#print profile to copy and paste\n",
    "print( intro, top_strengths_output, all_strengths_output, learner_types_output, praise_output, relationship_output)"
   ]
  }
 ],
 "metadata": {
  "kernelspec": {
   "display_name": "Python 3",
   "language": "python",
   "name": "python3"
  },
  "language_info": {
   "codemirror_mode": {
    "name": "ipython",
    "version": 3
   },
   "file_extension": ".py",
   "mimetype": "text/x-python",
   "name": "python",
   "nbconvert_exporter": "python",
   "pygments_lexer": "ipython3",
   "version": "3.6.3"
  }
 },
 "nbformat": 4,
 "nbformat_minor": 2
}
